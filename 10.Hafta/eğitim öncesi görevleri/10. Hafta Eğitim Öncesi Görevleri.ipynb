{
 "cells": [
  {
   "attachments": {},
   "cell_type": "markdown",
   "metadata": {},
   "source": [
    "# Problem 1"
   ]
  },
  {
   "cell_type": "code",
   "execution_count": 12,
   "metadata": {},
   "outputs": [
    {
     "name": "stdout",
     "output_type": "stream",
     "text": [
      "[1 3 2 5 3]\n",
      "(5,)\n",
      "[1 3 2 5 3]\n",
      "1\n"
     ]
    }
   ],
   "source": [
    "# 1 - numpy kütüphanesini import edin\n",
    "import numpy as np\n",
    "# 2 - 0 ile 10 arasında 5 sayıdan oluşan matris üretin\n",
    "x = np.random.randint(0,10,5)\n",
    "print(x)\n",
    "# 3 - matris'in boyutunu öğrenin\n",
    "print(x.shape)\n",
    "# 4 - matris'i yeniden boyutlandırın\n",
    "x.reshape(5,1)\n",
    "print(x)\n",
    "# 5 - matris'in boyut sayısını öğrenin\n",
    "print(x.ndim)"
   ]
  },
  {
   "attachments": {},
   "cell_type": "markdown",
   "metadata": {},
   "source": [
    "# Problem 2"
   ]
  },
  {
   "cell_type": "code",
   "execution_count": 17,
   "metadata": {},
   "outputs": [
    {
     "name": "stdout",
     "output_type": "stream",
     "text": [
      "[1 3 5 7 9]\n",
      "[1]\n",
      "[3 5]\n",
      "[7 9]\n",
      "[1 3 5 7 9]\n"
     ]
    }
   ],
   "source": [
    "# 1 - 0 ile 10 arasında bulunan tek sayılardan oluşan matris üretin\n",
    "y = np.arange(1,10,2)\n",
    "print(y)\n",
    "# 2 - Oluşturduğunuz matrisi parçalayın\n",
    "a, b , c = np.split(y,[1,3])\n",
    "print(a)\n",
    "print(b)\n",
    "print(c)\n",
    "# 3 - Parçalanmış matrisleri birleştirin\n",
    "print(np.concatenate([a,b,c]))"
   ]
  },
  {
   "attachments": {},
   "cell_type": "markdown",
   "metadata": {},
   "source": [
    "# Problem 3"
   ]
  },
  {
   "cell_type": "code",
   "execution_count": 23,
   "metadata": {},
   "outputs": [
    {
     "name": "stdout",
     "output_type": "stream",
     "text": [
      "[65 81 67  5 93 79 81 51 61 81]\n",
      "1\n",
      "(10,)\n",
      "10\n",
      "int64\n"
     ]
    }
   ],
   "source": [
    "# 1 - 5 ile 100 arasında ikişer ikişer atlayarak rastgele 10 sayıdan oluşan matris üretin\n",
    "z = np.arange(5,101,2)\n",
    "rastgele = np.random.choice(z,size =10)\n",
    "print(rastgele)\n",
    "# 2 - matris'in özelliklerini inceleyin\n",
    "print(rastgele.ndim)\n",
    "print(rastgele.shape)\n",
    "print(rastgele.size)\n",
    "print(rastgele.dtype)"
   ]
  }
 ],
 "metadata": {
  "kernelspec": {
   "display_name": "Python 3",
   "language": "python",
   "name": "python3"
  },
  "language_info": {
   "codemirror_mode": {
    "name": "ipython",
    "version": 3
   },
   "file_extension": ".py",
   "mimetype": "text/x-python",
   "name": "python",
   "nbconvert_exporter": "python",
   "pygments_lexer": "ipython3",
   "version": "3.11.9"
  },
  "orig_nbformat": 4,
  "vscode": {
   "interpreter": {
    "hash": "5026d2d6e7aaaaba093def813beadff083d8733e4a511af01735cbabd156995d"
   }
  }
 },
 "nbformat": 4,
 "nbformat_minor": 2
}

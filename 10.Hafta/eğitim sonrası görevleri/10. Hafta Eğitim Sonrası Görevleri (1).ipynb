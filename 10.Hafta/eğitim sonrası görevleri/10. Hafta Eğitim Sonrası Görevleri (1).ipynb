{
 "cells": [
  {
   "attachments": {},
   "cell_type": "markdown",
   "metadata": {},
   "source": [
    "# Problem 1 "
   ]
  },
  {
   "cell_type": "code",
   "execution_count": 14,
   "metadata": {},
   "outputs": [
    {
     "name": "stdout",
     "output_type": "stream",
     "text": [
      "[0.30778514 0.33733556 0.40587091 0.78923124 0.90519603]\n"
     ]
    }
   ],
   "source": [
    "# 1 - numpy kütüphanesini import edin\n",
    "import numpy as np\n",
    "# 2 - 5 elemanlı bir numpy array oluşturun\n",
    "x = np.random.rand(5)\n",
    "# 3 - Oluşturduğunuz arrayi küçükten büyüğe sıralayın.\n",
    "x = np.sort(x)\n",
    "print(x)"
   ]
  },
  {
   "attachments": {},
   "cell_type": "markdown",
   "metadata": {},
   "source": [
    "# Problem 2"
   ]
  },
  {
   "cell_type": "code",
   "execution_count": 30,
   "metadata": {},
   "outputs": [
    {
     "name": "stdout",
     "output_type": "stream",
     "text": [
      "[10 15 30 45 60]\n",
      "[ 5  6  7  8  9 10 11 12 13 14]\n",
      "[50 55 60 65 70 75 80 85 90 95]\n",
      "[0. 0. 0. 0. 0. 0. 0. 0. 0. 0.]\n",
      "[1. 1. 1. 1. 1. 1. 1. 1. 1. 1.]\n",
      "[  0.  25.  50.  75. 100.]\n",
      "[12 12 19 26 27]\n",
      "[-1.         -0.77777778 -0.55555556 -0.33333333 -0.11111111  0.11111111\n",
      "  0.33333333  0.55555556  0.77777778  1.        ]\n",
      "[[28 26 49 35 15]\n",
      " [34 42 42 32 14]\n",
      " [15 18 12 33 38]]\n",
      "[ 77  86 103 100  67] [153 164 116]\n",
      "49 12 28.866666666666667\n",
      "(np.int64(0), np.int64(2))\n",
      "[10 11 12]\n",
      "[19 18 17 16 15 14 13 12 11 10]\n",
      "[28 26 49 35 15]\n",
      "2.satır 3.sütundaki eleman: 42\n",
      "tüm satırlardaki ilk eleman arrayi [28 34 15]\n",
      "[[ 256 1521 2401  144 1296]\n",
      " [1024 1089 2401  529  256]\n",
      " [ 289 1521 2209  576  441]]\n",
      "[22 26 24 20 18 32 14 14 26]\n"
     ]
    },
    {
     "ename": "",
     "evalue": "",
     "output_type": "error",
     "traceback": [
      "\u001b[1;31mThe Kernel crashed while executing code in the current cell or a previous cell. \n",
      "\u001b[1;31mPlease review the code in the cell(s) to identify a possible cause of the failure. \n",
      "\u001b[1;31mClick <a href='https://aka.ms/vscodeJupyterKernelCrash'>here</a> for more info. \n",
      "\u001b[1;31mView Jupyter <a href='command:jupyter.viewOutput'>log</a> for further details."
     ]
    }
   ],
   "source": [
    "# 1- (10,15,30,45,60) değerlerine sahip numpy dizisi oluşturunuz.\n",
    "\n",
    "a = np.array([10,15,30,45,60])\n",
    "print(a)\n",
    "# 2- (5-15) arasındaki sayılarla numpy dizisi oluşturunuz.\n",
    "b = np.arange(5, 15)\n",
    "print(b)\n",
    "# 3- (50-100) arasında 5'er 5'er artarak numpy dizisi oluşturunuz.\n",
    "c = np.arange(50,100,5)\n",
    "print(c)\n",
    "# 4- 10 elemanlı sıfırlardan oluşan bir dizi oluşturunuz.\n",
    "y = np.zeros(10)\n",
    "print(y)\n",
    "# 5- 10 elemanlı birlerden oluşan bir dizi oluşturunuz.\n",
    "ones = np.ones(10)\n",
    "print(ones)\n",
    "# 6- (0-100) arasında eşit aralıklı 5 sayı üretin.\n",
    "d = np.linspace(0,100,5)\n",
    "print(d)\n",
    "# 7- (10-30) arasında rastgele 5 tane tamsayı üretin.\n",
    "e = np.random.randint(10,30,5)\n",
    "print(e)\n",
    "\n",
    "# 8- [-1 ile 1] arasında 10 adet sayı üretin.\n",
    "z = np.linspace(-1,1,10)\n",
    "print(z)\n",
    "# 9- (3x5) boyutlarında (10-50) arasında rastgele bir matris oluşturunuz.\n",
    "matrix = np.random.randint(10, 51, size=(3, 5))\n",
    "print(matrix)\n",
    "# 10- Üretilen matrisin satır ve sütun sayıları toplamlarını hesaplayınız ?\n",
    "satir = np.sum(matrix, axis = 0)\n",
    "sutun = np.sum(matrix, axis = 1)\n",
    "print(satir, sutun)\n",
    "# 11- Üretilen matrisin en büyük, en küçük ve ortalaması nedir ?\n",
    "en_buyuk = np.max(matrix)\n",
    "en_kucuk = np.min(matrix)\n",
    "ort = np.mean(matrix)\n",
    "print(en_buyuk, en_kucuk, ort)\n",
    "\n",
    "# 12- Üretilen matrisin en büyük değerinin indeksi kaçtır ?\n",
    "flat_index = np.argmax(matrix)    #gemini\n",
    "unraveled_index = np.unravel_index(flat_index, matrix.shape)  \n",
    "print(unraveled_index)\n",
    "# 13- (10-20) arasındaki sayıları içeren dizinin ilk 3 elemanını seçiniz.\n",
    "p = np.arange(10,20)\n",
    "print(p[:3])\n",
    "\n",
    "# 14- Üretilen dizinin elemanlarını tersten yazdırın.\n",
    "print(p[::-1])\n",
    "# 15- Üretilen matrisin ilk satırını seçiniz.\n",
    "print(matrix[0, :])\n",
    "\n",
    "# 16- Üretilen matrisin 2.satır 3.sütundaki elemanı hangisidir ?\n",
    "print(\"2.satır 3.sütundaki eleman:\" , matrix[1, 2])\n",
    "\n",
    "# 17- Üretilen matrisin tüm satırlardaki ilk elemanı seçiniz.\n",
    "print(\"tüm satırlardaki ilk eleman arrayi\" , matrix[:,0])\n",
    "\n",
    "# 18- Üretilen matrisin her bir elemanının karesini alınız.\n",
    "matrix = np.random.randint(10,51,size = (3,5))\n",
    "print(matrix**2)\n",
    "# 19- Üretilen matris elemanlarının hangisi pozitif çift sayıdır ? Aralığı (-50,+50) arasında yapınız.\n",
    "matrix = np.random.randint(10,51,size = (3,5))\n",
    "even_numbers = matrix[(matrix % 2 == 0) & (matrix > 0)]\n",
    "print(even_numbers)\n"
   ]
  }
 ],
 "metadata": {
  "kernelspec": {
   "display_name": "Python 3",
   "language": "python",
   "name": "python3"
  },
  "language_info": {
   "codemirror_mode": {
    "name": "ipython",
    "version": 3
   },
   "file_extension": ".py",
   "mimetype": "text/x-python",
   "name": "python",
   "nbconvert_exporter": "python",
   "pygments_lexer": "ipython3",
   "version": "3.11.9"
  },
  "orig_nbformat": 4,
  "vscode": {
   "interpreter": {
    "hash": "5026d2d6e7aaaaba093def813beadff083d8733e4a511af01735cbabd156995d"
   }
  }
 },
 "nbformat": 4,
 "nbformat_minor": 2
}

{
 "cells": [
  {
   "cell_type": "markdown",
   "metadata": {},
   "source": [
    "# Problem 1\n",
    "`ogrenciler` adında bir sözlük oluşturunuz. Kullanıcıdan döngü yardımıyla 3 öğrenci için veri girmesini isteyerek öğrencilerin sırasıyla okul numarası, isim, soy isim, telefon numarası ve doğum tarihi bilgilerini alınız. Aldığınız öğrenci bilgilerini yine aynı döngü yardımıyla `ogrenciler` adındaki sözlükte saklayınız. Daha sonra öğrenci bilgilerinin bulunduğu sözlük yapısını ekrana bastırınız.\n",
    "\n"
   ]
  },
  {
   "cell_type": "code",
   "execution_count": 9,
   "metadata": {},
   "outputs": [
    {
     "name": "stdout",
     "output_type": "stream",
     "text": [
      "{'iclal': {'öğrenci no:': '20220703012', 'öğrenci soyisim:': 'yıldırımer', 'öğrenci telefon numarası:': '0539 300 3891', 'öğrenci doğum tarihi:': '25.12.2003'}, 'aslı': {'öğrenci no:': '20220703010', 'öğrenci soyisim:': 'sevinç', 'öğrenci telefon numarası:': '05xx xxx xxxx', 'öğrenci doğum tarihi:': '15.05.2004'}, 'mehmetcan': {'öğrenci no:': '20220707042', 'öğrenci soyisim:': 'zeren', 'öğrenci telefon numarası:': '0539 235 5846', 'öğrenci doğum tarihi:': '22.01.2004'}}\n"
     ]
    }
   ],
   "source": [
    "\n",
    "i = 0\n",
    "ogrenciler = {}\n",
    "while (i < 3):\n",
    "    bilgiler1= input(\"öğrencinin okul numarasını giriniz:\")\n",
    "    ad = input(\"öğrencinin adını giriniz:\")\n",
    "    soyad = input(\"öğrencinin soyadını giriniz:\")\n",
    "    telefon = input(\"öğrencinin telefon numarasını giriniz:\")\n",
    "    dogum = input(\"öğrencinin doğum tarihini giriniz.\")\n",
    "    i += 1\n",
    "    ogrenciler[ad] = {\n",
    "    \"öğrenci no:\": bilgiler1,\n",
    "    \"öğrenci soyisim:\" : soyad,\n",
    "    \"öğrenci telefon numarası:\" : telefon,\n",
    "    \"öğrenci doğum tarihi:\": dogum\n",
    "}\n",
    "\n",
    "print(ogrenciler)\n",
    "\n"
   ]
  },
  {
   "cell_type": "code",
   "execution_count": 10,
   "metadata": {},
   "outputs": [
    {
     "name": "stdout",
     "output_type": "stream",
     "text": [
      "{'20220703012': {'isim': 'iclal', 'soyisim': 'yıldırımer', 'tel_no': '0539 300 3891', 'dogum_tarihi': '25.12.2003'}, '20220703010': {'isim': 'aslı', 'soyisim': 'sevinç', 'tel_no': '05xx xxx xxxx', 'dogum_tarihi': '15.05.2004'}, '20220705042': {'isim': 'mehmetcan', 'soyisim': 'zeren', 'tel_no': '0539 235 5846', 'dogum_tarihi': '22.01.2004'}}\n"
     ]
    }
   ],
   "source": [
    "ogrenciler = {}     #Gemini's answer#\n",
    "\n",
    "for i in range(3):\n",
    "  ogr_no = input(\"Öğrenci No:\")\n",
    "  isim = input(\"İsim:\")\n",
    "  soyisim = input(\"Soyisim:\")\n",
    "  tel_no = input(\"Telefon Numarası:\")\n",
    "  dogum_tarihi = input(\"Doğum Tarihi:\")\n",
    "\n",
    "  ogrenciler[ogr_no] = {\n",
    "      \"isim\": isim,\n",
    "      \"soyisim\": soyisim,\n",
    "      \"tel_no\": tel_no,\n",
    "      \"dogum_tarihi\": dogum_tarihi,\n",
    "  }\n",
    "\n",
    "print(ogrenciler)"
   ]
  },
  {
   "cell_type": "markdown",
   "metadata": {},
   "source": [
    "# Problem 2\n",
    "\n",
    "### a - Biraz ısınarak başlayalım!\n",
    "\n",
    "```\n",
    "numbers = [5,10,10,15,15,15,20,20,20,20]\n",
    "```\n",
    "\n",
    "Yukarıda `numbers` adında 10 elemanlı bir liste verilmiştir. Bu listenin her elemanını kontrol eden ve tekrar eden elemanları bir kez olacak şekilde başka bir listeye kopyalayan bir program yazınız. Son olarak oluşturduğunuz listeyi ekrana bastırınız.\n",
    "\n",
    "\n",
    "\n",
    "\n",
    "```\n",
    ">Output\n",
    "[5, 10, 15, 20]\n",
    "```\n"
   ]
  },
  {
   "cell_type": "code",
   "execution_count": 2,
   "metadata": {},
   "outputs": [
    {
     "name": "stdout",
     "output_type": "stream",
     "text": [
      "[5, 10, 15, 20]\n"
     ]
    }
   ],
   "source": [
    "numbers = [5,10,10,15,15,15,20,20,20,20]\n",
    "numbers = set(numbers)\n",
    "numbers = list(numbers)\n",
    "numbers.sort()                        #listeyi küçükten büyüğe yazdırır.\n",
    "print(numbers)"
   ]
  },
  {
   "cell_type": "markdown",
   "metadata": {},
   "source": [
    "### 🌶️ b) Hadi işi biraz daha zorlaştıralım! \n",
    "\n",
    "\n",
    "Şimdiyse senden `numbers` isimli listedeki tekrar eden elemanları `repeatNumbers` adındaki listeye; tekrar etmeyen elemanları `uniqueNumbers`adındaki listeye kopyalayan yazmanı ve listeleri ekrana bastırmanı bekliyoruz\n",
    "\n",
    "```\n",
    ">Output\n",
    "Tekrar Eden Elemanlar: [10, 10, 15, 15, 15, 20, 20, 20, 20]\n",
    "Tekrar Etmeyen Elemanlar: [5]\n",
    "```"
   ]
  },
  {
   "cell_type": "code",
   "execution_count": 10,
   "metadata": {},
   "outputs": [
    {
     "name": "stdout",
     "output_type": "stream",
     "text": [
      "tekrar eden elemanlar: ['10', '10', '15', '15', '15', '20', '20', '20', '20']\n",
      "tekrar etmeyen elemanlar: ['5']\n"
     ]
    }
   ],
   "source": [
    "numbers = \"5,10,10,15,15,15,20,20,20,20\"\n",
    "tekrar_eden = []\n",
    "tekrarEtmeyen= []\n",
    "n2 = numbers.split(\",\")\n",
    "for i in n2:\n",
    "    sayi = n2.count(i)\n",
    "    if sayi == 1:\n",
    "        tekrarEtmeyen.append(i)\n",
    "    else:\n",
    "        tekrar_eden.append(i)         \n",
    "print(\"tekrar eden elemanlar:\",tekrar_eden)\n",
    "print(\"tekrar etmeyen elemanlar:\", tekrarEtmeyen)            #printleri buraya yazdım yoksa listeleri her if döngüsünde sürekli yazıyor.\n"
   ]
  },
  {
   "cell_type": "markdown",
   "metadata": {},
   "source": [
    "# Problem 3\n",
    "sn1 = {1,2,3,4,5}\n",
    "\n",
    "sn2 = {4,5,6,7,8}\n",
    "\n",
    " Verilen 2 adet küme için kesişimlerini, farklarını ve birleşimlerini bulunuz. "
   ]
  },
  {
   "cell_type": "code",
   "execution_count": 7,
   "metadata": {},
   "outputs": [
    {
     "name": "stdout",
     "output_type": "stream",
     "text": [
      "iki kümenin kesişimi: {4, 5}\n",
      "iki kümenin farkı: {1, 2, 3}\n",
      "iki kümenin birleşimi: {1, 2, 3, 4, 5, 6, 7, 8}\n"
     ]
    }
   ],
   "source": [
    "sn1 = {1,2,3,4,5}\n",
    "sn2 = {4,5,6,7,8}\n",
    "\n",
    "inters = sn1.intersection(sn2)\n",
    "print(\"iki kümenin kesişimi:\" , inters)\n",
    "differ = sn1.difference(sn2)\n",
    "print(\"iki kümenin farkı:\" , differ)\n",
    "birlesim = sn1.union(sn2)\n",
    "print(\"iki kümenin birleşimi:\" , birlesim)"
   ]
  },
  {
   "cell_type": "markdown",
   "metadata": {},
   "source": [
    "# Problem 4\n",
    "\n",
    "Buradaki işlemlerimizin tamamı stringler içindir. Aşağıda verilecek olan metodlar için kendinizin örnek yaratması gerekmektedir. \n",
    "\n",
    "Örneğin `upper` için `string` değişkeni oluştururken` k = \"BAC\"` şeklinde oluşturmayınız. Bunun yerine k değişkenini `k = \"bac`\" şeklinde oluşturmanız `upper` metodundaki değişimi görebilmeniz için daha iyi olacaktır.\n",
    "\n",
    "Bütün metodlardaki değişimin gözle görülür şekilde değişimi beklenmektedir.\n",
    "\n",
    "\n",
    "1- capitalize(), lower(), upper(), swapcase(), title(), replace()\n",
    "\n",
    "2- endswith(), startswith(), find(), index(), count()\n",
    "\n",
    "3- split(), strip(), join(), islower(), isalpha(), isdigit()\n",
    "\n",
    "\n",
    "Yukarıdaki `string` metodlarındaki değişimleri görebildiğimiz bir program yazınız.\n"
   ]
  },
  {
   "cell_type": "code",
   "execution_count": 67,
   "metadata": {},
   "outputs": [
    {
     "name": "stdout",
     "output_type": "stream",
     "text": [
      "\n",
      " meryem iclal \n",
      " Meryem iclal \n",
      " MeRyEM IClAl \n",
      " MERYEM ICLAL \n",
      " M icLaL \n",
      "\n",
      "True\n",
      "False\n",
      "3\n",
      "8\n",
      "1\n",
      "['mErYem', 'icLaL']\n",
      "mErYem icLaL\n",
      "m-E-r-Y-e-m- -i-c-L-a-L\n",
      "False\n",
      "False\n",
      "False\n"
     ]
    }
   ],
   "source": [
    "s = \"mErYem icLaL\"\n",
    "low = s.lower()\n",
    "capi = s.capitalize()\n",
    "swap = s.swapcase() \n",
    "up = s.upper()\n",
    "rep = s.replace(\"mErYem\",\"M\")\n",
    "print('\\n',low,'\\n',capi,'\\n',swap,'\\n',up,'\\n',rep,'\\n')\n",
    "\n",
    "print(s.startswith(\"m\"))\n",
    "print(s.endswith(\"a\"))\n",
    "print(s.find(\"Y\"))\n",
    "print(s.index(\"c\"))\n",
    "print(s.count(\"mErYem\"))\n",
    "\n",
    "print(s.split(\" \"))\n",
    "print(s.strip(\" \"))\n",
    "ayrac = \"-\"\n",
    "print(ayrac.join(s))\n",
    "print(s.islower())\n",
    "print(s.isalpha())\n",
    "print(s.isdigit())\n"
   ]
  }
 ],
 "metadata": {
  "kernelspec": {
   "display_name": "Python 3.10.5 64-bit",
   "language": "python",
   "name": "python3"
  },
  "language_info": {
   "codemirror_mode": {
    "name": "ipython",
    "version": 3
   },
   "file_extension": ".py",
   "mimetype": "text/x-python",
   "name": "python",
   "nbconvert_exporter": "python",
   "pygments_lexer": "ipython3",
   "version": "3.11.9"
  },
  "orig_nbformat": 4,
  "vscode": {
   "interpreter": {
    "hash": "5026d2d6e7aaaaba093def813beadff083d8733e4a511af01735cbabd156995d"
   }
  }
 },
 "nbformat": 4,
 "nbformat_minor": 2
}
